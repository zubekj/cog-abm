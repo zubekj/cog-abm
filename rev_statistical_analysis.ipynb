{
 "cells": [
  {
   "cell_type": "code",
   "execution_count": 1,
   "metadata": {
    "collapsed": false,
    "deletable": true,
    "editable": true
   },
   "outputs": [],
   "source": [
    "import os\n",
    "import re\n",
    "import pandas as pd\n",
    "import seaborn as sns\n",
    "import matplotlib.pyplot as plt\n",
    "from scipy import stats\n",
    "from statsmodels.formula.api import ols, mixedlm\n",
    "from statsmodels.stats.multicomp import pairwise_tukeyhsd\n",
    "from scipy.stats import bartlett, kruskal\n",
    "\n",
    "%matplotlib inline"
   ]
  },
  {
   "cell_type": "code",
   "execution_count": 2,
   "metadata": {
    "collapsed": true,
    "deletable": true,
    "editable": true
   },
   "outputs": [],
   "source": [
    "def load_data(path):\n",
    "    df = pd.read_csv(path)\n",
    "    g = df.groupby(['network_size', 'network', 'simulation'])\n",
    "    df['it2'] = g.cumcount()\n",
    "    df.sort_values(['network_size', 'network', 'simulation', 'it'], inplace=True)\n",
    "    for c in df.columns:\n",
    "        if c.endswith('_avar') or (c.endswith('_mean') and c not in ('GG_mean', 'CL_mean')):\n",
    "            del df[c]\n",
    "    return df"
   ]
  },
  {
   "cell_type": "code",
   "execution_count": 3,
   "metadata": {
    "collapsed": false
   },
   "outputs": [],
   "source": [
    "env_shift = load_data('ext_env_shift_results_vi.csv')\n",
    "top_shift = load_data('ext_top_shift_results_vi.csv')"
   ]
  },
  {
   "cell_type": "code",
   "execution_count": 4,
   "metadata": {
    "collapsed": false
   },
   "outputs": [],
   "source": [
    "all_data = pd.concat({\n",
    "        'env_shift': env_shift,\n",
    "        'top_shift': top_shift\n",
    "    }, names=['paradigm']).reset_index('paradigm')\n",
    "all_data.to_csv('all_data.csv')"
   ]
  },
  {
   "cell_type": "code",
   "execution_count": 5,
   "metadata": {
    "collapsed": true
   },
   "outputs": [],
   "source": [
    "def load_old(ddir, rexpr):\n",
    "    dfs = {}\n",
    "    for fn in os.listdir(ddir):\n",
    "        path = os.path.join(ddir, fn)\n",
    "        if not os.path.isfile(path):\n",
    "            continue\n",
    "        if 'ccw' in fn: # fck u\n",
    "            fn = fn.replace('ccw', 'CCW')\n",
    "        m = re.match(rexpr, fn)\n",
    "        if not m:\n",
    "            print(path)\n",
    "            continue\n",
    "        #print(m.groups())\n",
    "        isim = int(m.group('simulation'))\n",
    "        meas = m.group('measure')\n",
    "        if meas == 'CSA':\n",
    "            meas = 'GG_mean'\n",
    "        elif meas == 'CLA':\n",
    "            meas = 'CL_mean'\n",
    "        else:\n",
    "            continue\n",
    "        netname = m.group('network')\n",
    "        key = (netname, isim)\n",
    "        if netname not in ('max_avg_bet', 'min_avg_bet', 'hub', 'hub_speaker', 'hub_hearer', 'clique'):\n",
    "            continue\n",
    "        X = pd.read_table(path, header=None)\n",
    "        X.set_index(0, inplace=True)\n",
    "        vals = X.mean(axis=1)      \n",
    "        if key in dfs:\n",
    "            df = dfs[key]\n",
    "            df[meas] = vals\n",
    "        else:\n",
    "            df = pd.DataFrame({meas: vals})\n",
    "            df['simulation'] = isim\n",
    "            df['network'] = netname\n",
    "            dfs[key] = df\n",
    "\n",
    "    alldf = pd.concat(dfs)\n",
    "    alldf['network_size'] = 16\n",
    "    alldf.reset_index(inplace=True)\n",
    "    alldf.rename(columns={0: 'it'}, inplace=True)\n",
    "    del alldf['level_0']\n",
    "    alldf['it2'] = alldf['it'] // 50\n",
    "    return alldf"
   ]
  },
  {
   "cell_type": "code",
   "execution_count": 6,
   "metadata": {
    "collapsed": false,
    "deletable": true,
    "editable": true
   },
   "outputs": [],
   "source": [
    "ts16 = load_old('raw_data_N16/shift_sim_data/', r'^data_(?P<network>\\w+)_to_clique_(?P<measure>\\w+)(?P<simulation>\\d)$')\n",
    "es16 = load_old('raw_data_N16/env_shift_gauss_sim_data/', r'^data_env_training(?P<network>[a-z_]+)(?P<measure>[A-Z_]+)_(?P<simulation>\\d)$')\n",
    "\n",
    "env_shift = pd.concat([env_shift, es16])\n",
    "top_shift = pd.concat([top_shift, ts16])\n",
    "\n",
    "env_shift.sort_values(['network_size', 'network', 'simulation', 'it'], inplace=True)\n",
    "top_shift.sort_values(['network_size', 'network', 'simulation', 'it'], inplace=True)"
   ]
  },
  {
   "cell_type": "code",
   "execution_count": 7,
   "metadata": {
    "collapsed": false
   },
   "outputs": [
    {
     "data": {
      "text/plain": [
       "min_avg_bet    4010\n",
       "hub            4010\n",
       "clique         4010\n",
       "max_avg_bet    4010\n",
       "hub_speaker    4010\n",
       "hub_hearer     4010\n",
       "Name: network, dtype: int64"
      ]
     },
     "execution_count": 7,
     "metadata": {},
     "output_type": "execute_result"
    }
   ],
   "source": [
    "es16.network.value_counts()"
   ]
  },
  {
   "cell_type": "code",
   "execution_count": 8,
   "metadata": {
    "collapsed": false
   },
   "outputs": [
    {
     "data": {
      "text/html": [
       "<div>\n",
       "<table border=\"1\" class=\"dataframe\">\n",
       "  <thead>\n",
       "    <tr style=\"text-align: right;\">\n",
       "      <th></th>\n",
       "      <th>CL_mean</th>\n",
       "      <th>GG_mean</th>\n",
       "      <th>it</th>\n",
       "      <th>it2</th>\n",
       "      <th>level_1</th>\n",
       "      <th>network</th>\n",
       "      <th>network_size</th>\n",
       "      <th>simulation</th>\n",
       "    </tr>\n",
       "  </thead>\n",
       "  <tbody>\n",
       "    <tr>\n",
       "      <th>0</th>\n",
       "      <td>0.000000</td>\n",
       "      <td>0.000000</td>\n",
       "      <td>0</td>\n",
       "      <td>0</td>\n",
       "      <td>NaN</td>\n",
       "      <td>clique</td>\n",
       "      <td>8</td>\n",
       "      <td>0</td>\n",
       "    </tr>\n",
       "    <tr>\n",
       "      <th>1</th>\n",
       "      <td>0.000000</td>\n",
       "      <td>0.000000</td>\n",
       "      <td>25</td>\n",
       "      <td>1</td>\n",
       "      <td>NaN</td>\n",
       "      <td>clique</td>\n",
       "      <td>8</td>\n",
       "      <td>0</td>\n",
       "    </tr>\n",
       "    <tr>\n",
       "      <th>2</th>\n",
       "      <td>0.000000</td>\n",
       "      <td>0.016146</td>\n",
       "      <td>50</td>\n",
       "      <td>2</td>\n",
       "      <td>NaN</td>\n",
       "      <td>clique</td>\n",
       "      <td>8</td>\n",
       "      <td>0</td>\n",
       "    </tr>\n",
       "    <tr>\n",
       "      <th>3</th>\n",
       "      <td>0.023838</td>\n",
       "      <td>0.050867</td>\n",
       "      <td>75</td>\n",
       "      <td>3</td>\n",
       "      <td>NaN</td>\n",
       "      <td>clique</td>\n",
       "      <td>8</td>\n",
       "      <td>0</td>\n",
       "    </tr>\n",
       "    <tr>\n",
       "      <th>4</th>\n",
       "      <td>0.052626</td>\n",
       "      <td>0.095114</td>\n",
       "      <td>100</td>\n",
       "      <td>4</td>\n",
       "      <td>NaN</td>\n",
       "      <td>clique</td>\n",
       "      <td>8</td>\n",
       "      <td>0</td>\n",
       "    </tr>\n",
       "  </tbody>\n",
       "</table>\n",
       "</div>"
      ],
      "text/plain": [
       "    CL_mean   GG_mean   it  it2  level_1 network  network_size  simulation\n",
       "0  0.000000  0.000000    0    0      NaN  clique             8           0\n",
       "1  0.000000  0.000000   25    1      NaN  clique             8           0\n",
       "2  0.000000  0.016146   50    2      NaN  clique             8           0\n",
       "3  0.023838  0.050867   75    3      NaN  clique             8           0\n",
       "4  0.052626  0.095114  100    4      NaN  clique             8           0"
      ]
     },
     "execution_count": 8,
     "metadata": {},
     "output_type": "execute_result"
    }
   ],
   "source": [
    "env_shift[:5]"
   ]
  },
  {
   "cell_type": "markdown",
   "metadata": {
    "deletable": true,
    "editable": true
   },
   "source": [
    "  * GG -- to jest communicative success dla pierwszej topologii/środowiska, na której uczymy najpierw.\n",
    "  * CL -- to jest communicative success dla drugiej topologii/środowiska.\n",
    "  \n",
    "  \n",
    "  * DG -- to jest discriminative success dla pierwszej topologii/środowiska.  \n",
    "  * DG_CL -- to jest discriminative success dla drugiej topologii/środowiska."
   ]
  },
  {
   "cell_type": "code",
   "execution_count": 9,
   "metadata": {
    "collapsed": false
   },
   "outputs": [],
   "source": [
    "phase1 = 200\n",
    "phase2 = 400\n",
    "cols = ['network', 'network_size']"
   ]
  },
  {
   "cell_type": "code",
   "execution_count": 10,
   "metadata": {
    "collapsed": true
   },
   "outputs": [],
   "source": [
    "plt.rcParams['figure.figsize']=(12,6)"
   ]
  },
  {
   "cell_type": "code",
   "execution_count": 11,
   "metadata": {
    "collapsed": false
   },
   "outputs": [],
   "source": [
    "def do_anal(df, dv, alpha=0.05):\n",
    "    sizes = sorted(set(df['network_size']))\n",
    "    networks = sorted(set(df['network']))\n",
    "    #print([n for n in sizes])\n",
    "    #print([net for net in networks])\n",
    "    sns.boxplot(data=df, y=dv, x='network_size', hue='network')\n",
    "    tab = []\n",
    "    for N in sizes:\n",
    "        dfn = df[df.network_size == N]\n",
    "        print(\"SIZE = %d\" % N)        \n",
    "        grp = [dfn[dfn.network == net][dv] for net in networks]\n",
    "        T, p = bartlett(*grp)\n",
    "        print(\"Bartlett: T=%f, p=%f\" % (T, p))\n",
    "        #H, p = kruskal(*grp)\n",
    "        #print(\"Kruskal-Wallis: H=%f, p=%f\" % (H, p))\n",
    "        # mm = mixedlm(dv + ' ~ network', df, groups=df['network_size']).fit()        \n",
    "        mm = ols(dv + ' ~ network', dfn).fit()\n",
    "        print(\"ANOVA: F(%d,%d)=%f, p=%f, \" % (mm.df_model, mm.df_resid, mm.fvalue, mm.f_pvalue))\n",
    "        # print(mm.summary())\n",
    "        mcomp = pairwise_tukeyhsd(endog=dfn[dv], groups=dfn['network'], alpha=alpha)\n",
    "        # mcomp.plot_simultaneous()\n",
    "        # print(mcomp.summary())\n",
    "        tab.append('%d & %.1f & %.3f \\\\\\\\' % (N, mm.fvalue, mm.f_pvalue))\n",
    "    for row in tab:\n",
    "        print(row)"
   ]
  },
  {
   "cell_type": "markdown",
   "metadata": {},
   "source": [
    "## After first pahse iterations (=10k for 16)"
   ]
  },
  {
   "cell_type": "code",
   "execution_count": 12,
   "metadata": {
    "collapsed": false
   },
   "outputs": [],
   "source": [
    "df = top_shift\n",
    "p1_CSL = df[df.it2==phase1][cols + ['GG_mean']]\n",
    "p1_CSG = df[df.it2==phase1][cols + ['CL_mean']]"
   ]
  },
  {
   "cell_type": "code",
   "execution_count": 13,
   "metadata": {
    "collapsed": false
   },
   "outputs": [
    {
     "name": "stdout",
     "output_type": "stream",
     "text": [
      "SIZE = 8\n",
      "Bartlett: T=12.975077, p=0.023613\n",
      "ANOVA: F(5,54)=30.056237, p=0.000000, \n",
      "SIZE = 12\n",
      "Bartlett: T=9.719409, p=0.083587\n",
      "ANOVA: F(5,54)=108.123832, p=0.000000, \n",
      "SIZE = 16\n",
      "Bartlett: T=13.833080, p=0.016705\n",
      "ANOVA: F(5,54)=248.332066, p=0.000000, \n",
      "SIZE = 24\n",
      "Bartlett: T=10.269032, p=0.067961\n",
      "ANOVA: F(5,54)=526.634748, p=0.000000, \n",
      "SIZE = 32\n",
      "Bartlett: T=10.314535, p=0.066798\n",
      "ANOVA: F(5,54)=940.158145, p=0.000000, \n",
      "SIZE = 48\n",
      "Bartlett: T=61.404808, p=0.000000\n",
      "ANOVA: F(5,54)=511.702101, p=0.000000, \n",
      "8 & 30.1 & 0.000 \\\\\n",
      "12 & 108.1 & 0.000 \\\\\n",
      "16 & 248.3 & 0.000 \\\\\n",
      "24 & 526.6 & 0.000 \\\\\n",
      "32 & 940.2 & 0.000 \\\\\n",
      "48 & 511.7 & 0.000 \\\\\n"
     ]
    },
    {
     "data": {
      "image/png": "[encoded data removed]",
      "text/plain": [
       "<matplotlib.figure.Figure at 0x7f4d12428080>"
      ]
     },
     "metadata": {},
     "output_type": "display_data"
    }
   ],
   "source": [
    "do_anal(p1_CSG, 'CL_mean')"
   ]
  },
  {
   "cell_type": "markdown",
   "metadata": {
    "deletable": true,
    "editable": true
   },
   "source": [
    "## Topology shift"
   ]
  },
  {
   "cell_type": "code",
   "execution_count": 14,
   "metadata": {
    "collapsed": true
   },
   "outputs": [],
   "source": [
    "df = top_shift\n",
    "# ts_CSL = df[df.it2==phase2][cols + ['GG_mean']]\n",
    "ts_CSG = df[df.it2==phase2][cols + ['CL_mean']]"
   ]
  },
  {
   "cell_type": "code",
   "execution_count": 15,
   "metadata": {
    "collapsed": false
   },
   "outputs": [
    {
     "name": "stdout",
     "output_type": "stream",
     "text": [
      "SIZE = 8\n",
      "Bartlett: T=8.425891, p=0.134274\n",
      "ANOVA: F(5,54)=1.729789, p=0.143488, \n",
      "SIZE = 12\n",
      "Bartlett: T=0.721371, p=0.981775\n",
      "ANOVA: F(5,54)=5.354500, p=0.000455, \n",
      "SIZE = 16\n",
      "Bartlett: T=1.306875, p=0.934223\n",
      "ANOVA: F(5,54)=8.696955, p=0.000004, \n",
      "SIZE = 24\n",
      "Bartlett: T=2.297856, p=0.806582\n",
      "ANOVA: F(5,54)=63.169752, p=0.000000, \n",
      "SIZE = 32\n",
      "Bartlett: T=6.182334, p=0.288879\n",
      "ANOVA: F(5,54)=110.897483, p=0.000000, \n",
      "SIZE = 48\n",
      "Bartlett: T=2.686611, p=0.748165\n",
      "ANOVA: F(5,54)=103.424930, p=0.000000, \n",
      "8 & 1.7 & 0.143 \\\\\n",
      "12 & 5.4 & 0.000 \\\\\n",
      "16 & 8.7 & 0.000 \\\\\n",
      "24 & 63.2 & 0.000 \\\\\n",
      "32 & 110.9 & 0.000 \\\\\n",
      "48 & 103.4 & 0.000 \\\\\n"
     ]
    },
    {
     "data": {
      "image/png": "[encoded data removed]",
      "text/plain": [
       "<matplotlib.figure.Figure at 0x7f4d11e52cc0>"
      ]
     },
     "metadata": {},
     "output_type": "display_data"
    }
   ],
   "source": [
    "do_anal(ts_CSG, 'CL_mean')"
   ]
  },
  {
   "cell_type": "markdown",
   "metadata": {},
   "source": [
    "## Environment shift"
   ]
  },
  {
   "cell_type": "code",
   "execution_count": 16,
   "metadata": {
    "collapsed": true
   },
   "outputs": [],
   "source": [
    "df = env_shift\n",
    "es_CSL = df[df.it2==phase2][cols + ['GG_mean']]\n",
    "es_CSG = df[df.it2==phase2][cols + ['CL_mean']]"
   ]
  },
  {
   "cell_type": "code",
   "execution_count": 17,
   "metadata": {
    "collapsed": false
   },
   "outputs": [
    {
     "name": "stdout",
     "output_type": "stream",
     "text": [
      "SIZE = 8\n",
      "Bartlett: T=5.562597, p=0.351131\n",
      "ANOVA: F(5,54)=2.806686, p=0.025215, \n",
      "SIZE = 12\n",
      "Bartlett: T=2.362798, p=0.797001\n",
      "ANOVA: F(5,54)=11.254998, p=0.000000, \n",
      "SIZE = 16\n",
      "Bartlett: T=30.829491, p=0.000010\n",
      "ANOVA: F(5,54)=15.823826, p=0.000000, \n",
      "SIZE = 24\n",
      "Bartlett: T=13.720206, p=0.017488\n",
      "ANOVA: F(5,54)=46.044372, p=0.000000, \n",
      "SIZE = 32\n",
      "Bartlett: T=10.326733, p=0.066489\n",
      "ANOVA: F(5,54)=339.160600, p=0.000000, \n",
      "SIZE = 48\n",
      "Bartlett: T=50.521319, p=0.000000\n",
      "ANOVA: F(5,54)=327.669886, p=0.000000, \n",
      "8 & 2.8 & 0.025 \\\\\n",
      "12 & 11.3 & 0.000 \\\\\n",
      "16 & 15.8 & 0.000 \\\\\n",
      "24 & 46.0 & 0.000 \\\\\n",
      "32 & 339.2 & 0.000 \\\\\n",
      "48 & 327.7 & 0.000 \\\\\n"
     ]
    },
    {
     "data": {
      "image/png": "[encoded data removed]",
      "text/plain": [
       "<matplotlib.figure.Figure at 0x7f4d0fd73240>"
      ]
     },
     "metadata": {},
     "output_type": "display_data"
    }
   ],
   "source": [
    "do_anal(es_CSL, 'GG_mean')"
   ]
  },
  {
   "cell_type": "code",
   "execution_count": null,
   "metadata": {
    "collapsed": true
   },
   "outputs": [],
   "source": []
  }
 ],
 "metadata": {
  "kernelspec": {
   "display_name": "Python 3",
   "language": "python",
   "name": "python3"
  },
  "language_info": {
   "codemirror_mode": {
    "name": "ipython",
    "version": 3
   },
   "file_extension": ".py",
   "mimetype": "text/x-python",
   "name": "python",
   "nbconvert_exporter": "python",
   "pygments_lexer": "ipython3",
   "version": "3.5.3"
  }
 },
 "nbformat": 4,
 "nbformat_minor": 0
}
