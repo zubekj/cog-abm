{
 "cells": [
  {
   "cell_type": "code",
   "execution_count": 2,
   "metadata": {
    "collapsed": false
   },
   "outputs": [],
   "source": [
    "import pandas as pd\n",
    "import seaborn as sns\n",
    "import ggplot as gg\n",
    "%matplotlib inline"
   ]
  },
  {
   "cell_type": "code",
   "execution_count": 3,
   "metadata": {
    "collapsed": false
   },
   "outputs": [],
   "source": [
    "data = pd.read_csv('extended_simulation_results.csv')"
   ]
  },
  {
   "cell_type": "code",
   "execution_count": 4,
   "metadata": {
    "collapsed": false
   },
   "outputs": [
    {
     "data": {
      "text/html": [
       "<div>\n",
       "<table border=\"1\" class=\"dataframe\">\n",
       "  <thead>\n",
       "    <tr style=\"text-align: right;\">\n",
       "      <th></th>\n",
       "      <th>it</th>\n",
       "      <th>GG_mean</th>\n",
       "      <th>DG_mean</th>\n",
       "      <th>DG_CL_mean</th>\n",
       "      <th>CL_mean</th>\n",
       "      <th>GG_avar</th>\n",
       "      <th>DG_avar</th>\n",
       "      <th>DG_CL_avar</th>\n",
       "      <th>CL_avar</th>\n",
       "      <th>network</th>\n",
       "      <th>simulation</th>\n",
       "      <th>network_size</th>\n",
       "    </tr>\n",
       "  </thead>\n",
       "  <tbody>\n",
       "    <tr>\n",
       "      <th>0</th>\n",
       "      <td>0</td>\n",
       "      <td>0.000000</td>\n",
       "      <td>0.000000</td>\n",
       "      <td>0.000000</td>\n",
       "      <td>0.000000</td>\n",
       "      <td>0.000000</td>\n",
       "      <td>0.000000</td>\n",
       "      <td>0.000000</td>\n",
       "      <td>0.000000</td>\n",
       "      <td>hub</td>\n",
       "      <td>1</td>\n",
       "      <td>8</td>\n",
       "    </tr>\n",
       "    <tr>\n",
       "      <th>1</th>\n",
       "      <td>50</td>\n",
       "      <td>0.079338</td>\n",
       "      <td>0.299306</td>\n",
       "      <td>0.324256</td>\n",
       "      <td>0.041994</td>\n",
       "      <td>0.006012</td>\n",
       "      <td>0.067623</td>\n",
       "      <td>0.068176</td>\n",
       "      <td>0.002216</td>\n",
       "      <td>hub</td>\n",
       "      <td>1</td>\n",
       "      <td>8</td>\n",
       "    </tr>\n",
       "    <tr>\n",
       "      <th>2</th>\n",
       "      <td>100</td>\n",
       "      <td>0.227404</td>\n",
       "      <td>0.533926</td>\n",
       "      <td>0.531250</td>\n",
       "      <td>0.126995</td>\n",
       "      <td>0.006407</td>\n",
       "      <td>0.036783</td>\n",
       "      <td>0.054638</td>\n",
       "      <td>0.010296</td>\n",
       "      <td>hub</td>\n",
       "      <td>1</td>\n",
       "      <td>8</td>\n",
       "    </tr>\n",
       "    <tr>\n",
       "      <th>3</th>\n",
       "      <td>150</td>\n",
       "      <td>0.282038</td>\n",
       "      <td>0.664350</td>\n",
       "      <td>0.669997</td>\n",
       "      <td>0.157908</td>\n",
       "      <td>0.005840</td>\n",
       "      <td>0.033145</td>\n",
       "      <td>0.031862</td>\n",
       "      <td>0.008641</td>\n",
       "      <td>hub</td>\n",
       "      <td>1</td>\n",
       "      <td>8</td>\n",
       "    </tr>\n",
       "    <tr>\n",
       "      <th>4</th>\n",
       "      <td>200</td>\n",
       "      <td>0.336290</td>\n",
       "      <td>0.742934</td>\n",
       "      <td>0.714108</td>\n",
       "      <td>0.184055</td>\n",
       "      <td>0.007530</td>\n",
       "      <td>0.017363</td>\n",
       "      <td>0.023446</td>\n",
       "      <td>0.010773</td>\n",
       "      <td>hub</td>\n",
       "      <td>1</td>\n",
       "      <td>8</td>\n",
       "    </tr>\n",
       "    <tr>\n",
       "      <th>5</th>\n",
       "      <td>250</td>\n",
       "      <td>0.366527</td>\n",
       "      <td>0.770337</td>\n",
       "      <td>0.774800</td>\n",
       "      <td>0.267500</td>\n",
       "      <td>0.009380</td>\n",
       "      <td>0.011542</td>\n",
       "      <td>0.013429</td>\n",
       "      <td>0.016907</td>\n",
       "      <td>hub</td>\n",
       "      <td>1</td>\n",
       "      <td>8</td>\n",
       "    </tr>\n",
       "    <tr>\n",
       "      <th>6</th>\n",
       "      <td>300</td>\n",
       "      <td>0.408839</td>\n",
       "      <td>0.780139</td>\n",
       "      <td>0.813260</td>\n",
       "      <td>0.335000</td>\n",
       "      <td>0.016109</td>\n",
       "      <td>0.011336</td>\n",
       "      <td>0.008836</td>\n",
       "      <td>0.018029</td>\n",
       "      <td>hub</td>\n",
       "      <td>1</td>\n",
       "      <td>8</td>\n",
       "    </tr>\n",
       "    <tr>\n",
       "      <th>7</th>\n",
       "      <td>350</td>\n",
       "      <td>0.451251</td>\n",
       "      <td>0.799720</td>\n",
       "      <td>0.841574</td>\n",
       "      <td>0.392500</td>\n",
       "      <td>0.019134</td>\n",
       "      <td>0.008450</td>\n",
       "      <td>0.008268</td>\n",
       "      <td>0.018736</td>\n",
       "      <td>hub</td>\n",
       "      <td>1</td>\n",
       "      <td>8</td>\n",
       "    </tr>\n",
       "    <tr>\n",
       "      <th>8</th>\n",
       "      <td>400</td>\n",
       "      <td>0.524432</td>\n",
       "      <td>0.818118</td>\n",
       "      <td>0.871692</td>\n",
       "      <td>0.440000</td>\n",
       "      <td>0.026552</td>\n",
       "      <td>0.006994</td>\n",
       "      <td>0.007581</td>\n",
       "      <td>0.014057</td>\n",
       "      <td>hub</td>\n",
       "      <td>1</td>\n",
       "      <td>8</td>\n",
       "    </tr>\n",
       "    <tr>\n",
       "      <th>9</th>\n",
       "      <td>450</td>\n",
       "      <td>0.560765</td>\n",
       "      <td>0.837962</td>\n",
       "      <td>0.922500</td>\n",
       "      <td>0.455000</td>\n",
       "      <td>0.029264</td>\n",
       "      <td>0.006049</td>\n",
       "      <td>0.005193</td>\n",
       "      <td>0.015400</td>\n",
       "      <td>hub</td>\n",
       "      <td>1</td>\n",
       "      <td>8</td>\n",
       "    </tr>\n",
       "  </tbody>\n",
       "</table>\n",
       "</div>"
      ],
      "text/plain": [
       "    it   GG_mean   DG_mean  DG_CL_mean   CL_mean   GG_avar   DG_avar  \\\n",
       "0    0  0.000000  0.000000    0.000000  0.000000  0.000000  0.000000   \n",
       "1   50  0.079338  0.299306    0.324256  0.041994  0.006012  0.067623   \n",
       "2  100  0.227404  0.533926    0.531250  0.126995  0.006407  0.036783   \n",
       "3  150  0.282038  0.664350    0.669997  0.157908  0.005840  0.033145   \n",
       "4  200  0.336290  0.742934    0.714108  0.184055  0.007530  0.017363   \n",
       "5  250  0.366527  0.770337    0.774800  0.267500  0.009380  0.011542   \n",
       "6  300  0.408839  0.780139    0.813260  0.335000  0.016109  0.011336   \n",
       "7  350  0.451251  0.799720    0.841574  0.392500  0.019134  0.008450   \n",
       "8  400  0.524432  0.818118    0.871692  0.440000  0.026552  0.006994   \n",
       "9  450  0.560765  0.837962    0.922500  0.455000  0.029264  0.006049   \n",
       "\n",
       "   DG_CL_avar   CL_avar network  simulation  network_size  \n",
       "0    0.000000  0.000000     hub           1             8  \n",
       "1    0.068176  0.002216     hub           1             8  \n",
       "2    0.054638  0.010296     hub           1             8  \n",
       "3    0.031862  0.008641     hub           1             8  \n",
       "4    0.023446  0.010773     hub           1             8  \n",
       "5    0.013429  0.016907     hub           1             8  \n",
       "6    0.008836  0.018029     hub           1             8  \n",
       "7    0.008268  0.018736     hub           1             8  \n",
       "8    0.007581  0.014057     hub           1             8  \n",
       "9    0.005193  0.015400     hub           1             8  "
      ]
     },
     "execution_count": 4,
     "metadata": {},
     "output_type": "execute_result"
    }
   ],
   "source": [
    "data[:10]"
   ]
  },
  {
   "cell_type": "code",
   "execution_count": 7,
   "metadata": {
    "collapsed": false
   },
   "outputs": [
    {
     "data": {
      "text/plain": [
       "<matplotlib.axes._subplots.AxesSubplot at 0x7f9a50748c18>"
      ]
     },
     "execution_count": 7,
     "metadata": {},
     "output_type": "execute_result"
    },
    {
     "data": {
      "image/png": "[encoded data removed]",
      "text/plain": [
       "<matplotlib.figure.Figure at 0x7f9a5083f860>"
      ]
     },
     "metadata": {},
     "output_type": "display_data"
    }
   ],
   "source": [
    "sns.tsplot(data=data[data.network_size == 12], time='it', value='CL_mean', unit='simulation', condition='network')"
   ]
  },
  {
   "cell_type": "code",
   "execution_count": null,
   "metadata": {
    "collapsed": true
   },
   "outputs": [],
   "source": []
  }
 ],
 "metadata": {
  "kernelspec": {
   "display_name": "Python 3",
   "language": "python",
   "name": "python3"
  },
  "language_info": {
   "codemirror_mode": {
    "name": "ipython",
    "version": 3
   },
   "file_extension": ".py",
   "mimetype": "text/x-python",
   "name": "python",
   "nbconvert_exporter": "python",
   "pygments_lexer": "ipython3",
   "version": "3.5.3"
  }
 },
 "nbformat": 4,
 "nbformat_minor": 0
}
